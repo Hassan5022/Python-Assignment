{
 "cells": [
  {
   "cell_type": "code",
   "execution_count": 1,
   "metadata": {},
   "outputs": [
    {
     "name": "stdout",
     "output_type": "stream",
     "text": [
      "Enter 1st number:\n",
      "15\n",
      "Enter 2nd number:\n",
      "65\n",
      "Addition of two numbers is: 80\n"
     ]
    }
   ],
   "source": [
    "x = int(input(\"Enter 1st number:\\n\"))\n",
    "y = int(input(\"Enter 2nd number:\\n\"))\n",
    "z = x + y\n",
    "print(\"Addition of two numbers is:\", z)\n"
   ]
  },
  {
   "cell_type": "code",
   "execution_count": null,
   "metadata": {},
   "outputs": [],
   "source": []
  }
 ],
 "metadata": {
  "kernelspec": {
   "display_name": "Python 3",
   "language": "python",
   "name": "python3"
  },
  "language_info": {
   "codemirror_mode": {
    "name": "ipython",
    "version": 3
   },
   "file_extension": ".py",
   "mimetype": "text/x-python",
   "name": "python",
   "nbconvert_exporter": "python",
   "pygments_lexer": "ipython3",
   "version": "3.7.4"
  }
 },
 "nbformat": 4,
 "nbformat_minor": 2
}
