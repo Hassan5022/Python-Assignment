{
 "cells": [
  {
   "cell_type": "code",
   "execution_count": 1,
   "metadata": {},
   "outputs": [
    {
     "name": "stdout",
     "output_type": "stream",
     "text": [
      "Enter first name: Hassan\n",
      "Enter last name: Ahmed\n",
      "Enter age: 20\n",
      "Enter city: Karachi\n",
      "{'first_name': 'Hassan', 'last_name': 'Ahmed', 'age': '20', 'city': 'Karachi'}\n",
      "Enter qualification: Intermediate\n",
      "Intermediate\n"
     ]
    }
   ],
   "source": [
    "person_info = {}\n",
    "person_info[\"first_name\"] = input(\"Enter first name: \")\n",
    "person_info[\"last_name\"] = input(\"Enter last name: \")\n",
    "person_info[\"age\"] = input(\"Enter age: \")\n",
    "person_info[\"city\"] = input(\"Enter city: \")\n",
    "print(person_info)\n",
    "person_info[\"qualification\"] = input(\"Enter qualification: \")\n",
    "print(person_info[\"qualification\"])\n",
    "del person_info[\"qualification\"]"
   ]
  },
  {
   "cell_type": "code",
   "execution_count": 2,
   "metadata": {},
   "outputs": [
    {
     "name": "stdout",
     "output_type": "stream",
     "text": [
      "City: Karachi\n",
      "Information {'country': 'Pakistan', 'population': '14.91 million', 'fact': 'It is the most populous city in Pakistan'}\n",
      "City: London\n",
      "Information {'country': 'England', 'population': '8.9 million', 'fact': 'Capital of UK'}\n",
      "City: New York\n",
      "Information {'country': 'USA', 'population': '8.6 million', 'fact': 'Capital of USA'}\n"
     ]
    }
   ],
   "source": [
    "cities = {\"Karachi\": {}, \"London\": {}, \"New York\": {}}\n",
    "information_karachi = {\"country\": \"Pakistan\", \"population\": \"14.91 million\", \"fact\": \"It is the most populous city in Pakistan\"}\n",
    "information_london = {\"country\": \"England\", \"population\": \"8.9 million\", \"fact\": \"Capital of UK\"}\n",
    "information_ny = {\"country\": \"USA\", \"population\": \"8.6 million\", \"fact\": \"Capital of USA\"}\n",
    "\n",
    "cities[\"Karachi\"] = information_karachi\n",
    "cities[\"London\"] = information_london\n",
    "cities[\"New York\"] = information_ny\n",
    "\n",
    "for i, j in cities.items():\n",
    "    print(\"City:\",i)\n",
    "    print(\"Information\",j)"
   ]
  },
  {
   "cell_type": "code",
   "execution_count": 4,
   "metadata": {},
   "outputs": [
    {
     "name": "stdout",
     "output_type": "stream",
     "text": [
      "How many tickets you want to buy: 3\n",
      "Enter age: 2\n",
      "Ticket is free\n",
      "Enter age: 8\n",
      "The ticket is $10\n",
      "Enter age: 15\n",
      "The ticket is $15\n"
     ]
    }
   ],
   "source": [
    "n = int(input(\"How many tickets you want to buy: \"))\n",
    "for i in range(n):\n",
    "    age = int(input(\"Enter age: \"))\n",
    "    if age < 3:\n",
    "        print(\"Ticket is free\")\n",
    "    elif age >= 3 and age <= 12:\n",
    "        print(\"The ticket is $10\")\n",
    "    else:\n",
    "        print(\"The ticket is $15\")"
   ]
  },
  {
   "cell_type": "code",
   "execution_count": 5,
   "metadata": {},
   "outputs": [
    {
     "name": "stdout",
     "output_type": "stream",
     "text": [
      "One of my favorite books is Smarter way to learn python\n"
     ]
    }
   ],
   "source": [
    "def favorite_book(title):\n",
    "    print(\"One of my favorite books is \" + title)\n",
    "    \n",
    "favorite_book(\"Smarter way to learn python\")\n"
   ]
  },
  {
   "cell_type": "code",
   "execution_count": 6,
   "metadata": {},
   "outputs": [
    {
     "name": "stdout",
     "output_type": "stream",
     "text": [
      "Enter a number: 27\n",
      "Your answer is greater than number\n",
      "Enter a number: 20\n",
      "Your answer is greater than number\n",
      "Enter a number: 15\n",
      "Your answer is less than number\n"
     ]
    }
   ],
   "source": [
    "import random\n",
    "num = random.randint(1,30)\n",
    "for i in range(3):\n",
    "    a = int(input(\"Enter a number: \"))\n",
    "    if a == num:\n",
    "        print(\"Your answer is correct\")\n",
    "        break\n",
    "    elif a < num:\n",
    "        print(\"Your answer is less than number\")\n",
    "    elif a > num:\n",
    "        print(\"Your answer is greater than number\")"
   ]
  },
  {
   "cell_type": "code",
   "execution_count": null,
   "metadata": {},
   "outputs": [],
   "source": []
  }
 ],
 "metadata": {
  "kernelspec": {
   "display_name": "Python 3",
   "language": "python",
   "name": "python3"
  },
  "language_info": {
   "codemirror_mode": {
    "name": "ipython",
    "version": 3
   },
   "file_extension": ".py",
   "mimetype": "text/x-python",
   "name": "python",
   "nbconvert_exporter": "python",
   "pygments_lexer": "ipython3",
   "version": "3.7.4"
  }
 },
 "nbformat": 4,
 "nbformat_minor": 2
}
